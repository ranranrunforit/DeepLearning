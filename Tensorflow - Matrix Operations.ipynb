{
 "cells": [
  {
   "cell_type": "markdown",
   "metadata": {
    "colab_type": "text",
    "id": "f1v-gL4cHI3h"
   },
   "source": [
    "This is based on the tensorflow tutorial. "
   ]
  },
  {
   "cell_type": "code",
   "execution_count": 1,
   "metadata": {
    "colab": {
     "autoexec": {
      "startup": false,
      "wait_interval": 0
     }
    },
    "colab_type": "code",
    "id": "_ccE1kI0HI3i"
   },
   "outputs": [
    {
     "name": "stderr",
     "output_type": "stream",
     "text": [
      "C:\\Users\\chaor\\AppData\\Local\\Continuum\\anaconda3\\lib\\site-packages\\h5py\\__init__.py:36: FutureWarning: Conversion of the second argument of issubdtype from `float` to `np.floating` is deprecated. In future, it will be treated as `np.float64 == np.dtype(float).type`.\n",
      "  from ._conv import register_converters as _register_converters\n"
     ]
    }
   ],
   "source": [
    "from __future__ import print_function,division\n",
    "import random \n",
    "import tensorflow as tf\n",
    "import numpy as np"
   ]
  },
  {
   "cell_type": "markdown",
   "metadata": {
    "colab_type": "text",
    "id": "vWzfE86tusct"
   },
   "source": [
    "## Tensorflow - Matrix Operations"
   ]
  },
  {
   "cell_type": "markdown",
   "metadata": {
    "colab_type": "text",
    "id": "fVYXpj5bHI3m"
   },
   "source": [
    "All the following questions should be solved without using any of python's in-built control structures : for, while, if-else, etc. In addition to the tutorial material, you may find these functions useful:\n",
    "* tf.cast\n",
    "* tf.range\n",
    "* tf.pow\n",
    "\n",
    "Also, the following functions are used in later part: tf.sqrt and tf.square. "
   ]
  },
  {
   "cell_type": "markdown",
   "metadata": {
    "colab_type": "text",
    "id": "zF2qLN2wHI3n"
   },
   "source": [
    "### 1. Alternating addition"
   ]
  },
  {
   "cell_type": "code",
   "execution_count": 2,
   "metadata": {
    "colab": {
     "autoexec": {
      "startup": false,
      "wait_interval": 0
     }
    },
    "colab_type": "code",
    "id": "XRnQN-v_HI3p"
   },
   "outputs": [],
   "source": [
    "def alt_addition():\n",
    "    \"\"\"\n",
    "        Given a 1d-matrix of 1 x n, compute the alternating addition.\n",
    "        Ex: If A is\n",
    "        1 2 3 4 5 6 7 8 9\n",
    "        the return value should be 1 - 2 + 3 - 4 + 5 - 6 + 7 - 8 + 9.\n",
    "        Your solution shouldn't include the use of tf.where or tf.boolean_mask. \n",
    "        It should include only mathematical operations.\n",
    "    \"\"\"\n",
    "    A = tf.placeholder(dtype=tf.float64,shape=[1,None])\n",
    "    # Write code to compute B.\n",
    "    Bpos = A[:,::2]\n",
    "    Bneg = tf.negative(A[:,1::2])\n",
    "    B = tf.reduce_sum(Bpos) + tf.reduce_sum(Bneg)\n",
    "    print(B)\n",
    "    return A,B"
   ]
  },
  {
   "cell_type": "code",
   "execution_count": 3,
   "metadata": {
    "colab": {
     "autoexec": {
      "startup": false,
      "wait_interval": 0
     }
    },
    "colab_type": "code",
    "id": "oYdnpKb9HI3r"
   },
   "outputs": [
    {
     "name": "stdout",
     "output_type": "stream",
     "text": [
      "Tensor(\"add:0\", shape=(), dtype=float64)\n"
     ]
    }
   ],
   "source": [
    "A,B = alt_addition()"
   ]
  },
  {
   "cell_type": "code",
   "execution_count": 4,
   "metadata": {
    "colab": {
     "autoexec": {
      "startup": false,
      "wait_interval": 0
     }
    },
    "colab_type": "code",
    "id": "DfONnxCQHI3t"
   },
   "outputs": [
    {
     "name": "stdout",
     "output_type": "stream",
     "text": [
      "Correct!\n",
      "Correct!\n",
      "Correct!\n",
      "Correct!\n",
      "Correct!\n"
     ]
    }
   ],
   "source": [
    "# Just run this cell after completing the function alt_addition.\n",
    "def compute_alt(array):\n",
    "    sum_ = 0\n",
    "    for ind,i in enumerate(array):\n",
    "        if ind%2 == 0:\n",
    "            sum_ += i\n",
    "        else:\n",
    "            sum_ -= i\n",
    "    return sum_\n",
    "sess = tf.InteractiveSession()\n",
    "for num in [5,10,13,20,100]:\n",
    "    x = np.random.randn(num)\n",
    "    b = sess.run(B,feed_dict={A:x.reshape([1,-1])})\n",
    "    sum_ = compute_alt(x)\n",
    "    if abs(b - sum_) < 10**-10:\n",
    "        print(\"Correct!\")\n",
    "    else:\n",
    "        print(\"Incorrect.\")"
   ]
  },
  {
   "cell_type": "markdown",
   "metadata": {
    "colab_type": "text",
    "id": "dp0kSC_IHI3v"
   },
   "source": [
    "## 2. Odd Square and Even Cube"
   ]
  },
  {
   "cell_type": "code",
   "execution_count": 5,
   "metadata": {
    "colab": {
     "autoexec": {
      "startup": false,
      "wait_interval": 0
     }
    },
    "colab_type": "code",
    "id": "1VpsEt5eHI3v"
   },
   "outputs": [],
   "source": [
    "def sq_cube():\n",
    "    \"\"\"\n",
    "    Given a 2-d matrix of dimensions N x N, square the odd elements and cube the even elements.\n",
    "    Your solution shouldn't include the use of tf.where or tf.boolean_mask. \n",
    "    It should include only mathematical operations.\n",
    "    \"\"\"\n",
    "    A = tf.placeholder(dtype=tf.float64,shape=[None,None])\n",
    "    f = lambda x: (x*x*(1-(x%2))*x) + (x*x*(x%2)) #use mod of x to multiply/not-multiply by zero\n",
    "    B = tf.map_fn(f, A)\n",
    "    return A,B"
   ]
  },
  {
   "cell_type": "code",
   "execution_count": 6,
   "metadata": {
    "colab": {
     "autoexec": {
      "startup": false,
      "wait_interval": 0
     }
    },
    "colab_type": "code",
    "id": "mOxsb_GOHI3y"
   },
   "outputs": [],
   "source": [
    "A,B = sq_cube()"
   ]
  },
  {
   "cell_type": "code",
   "execution_count": 7,
   "metadata": {
    "colab": {
     "autoexec": {
      "startup": false,
      "wait_interval": 0
     }
    },
    "colab_type": "code",
    "id": "Y5Q8BdQTHI3z"
   },
   "outputs": [
    {
     "name": "stdout",
     "output_type": "stream",
     "text": [
      "Correct!\n",
      "Correct!\n",
      "Correct!\n"
     ]
    },
    {
     "name": "stderr",
     "output_type": "stream",
     "text": [
      "C:\\Users\\chaor\\AppData\\Local\\Continuum\\anaconda3\\lib\\site-packages\\tensorflow\\python\\client\\session.py:1702: UserWarning: An interactive session is already active. This can cause out-of-memory errors in some cases. You must explicitly call `InteractiveSession.close()` to release resources held by the other session(s).\n",
      "  warnings.warn('An interactive session is already active. This can '\n"
     ]
    }
   ],
   "source": [
    "# Just run this cell after completing the function sq_cube.\n",
    "def compute_sq_cube(array):\n",
    "    m = [[0 for _ in range(len(array[0]))] for _ in range(len(array))]\n",
    "    for row_ in range(len(array)):\n",
    "        for col_ in range(len(array[row_])):\n",
    "            m[row_][col_] = array[row_][col_]**3 if array[row_][col_]%2==0 else array[row_][col_]**2\n",
    "    return m\n",
    "sess = tf.InteractiveSession()\n",
    "for num in [5,10,20]:\n",
    "    x = np.array(range(num*num)).reshape([num,num])\n",
    "    b = sess.run(B,feed_dict={A:x})\n",
    "    res = compute_sq_cube(x.tolist())\n",
    "    if (abs(b - res) < 10**-10).all():\n",
    "        print(\"Correct!\")\n",
    "    else:\n",
    "        print(\"Incorrect.\")"
   ]
  },
  {
   "cell_type": "markdown",
   "metadata": {
    "colab_type": "text",
    "id": "A8JgEswBHI32"
   },
   "source": [
    "## 3. Tensorflow differentiation"
   ]
  },
  {
   "cell_type": "markdown",
   "metadata": {
    "colab_type": "text",
    "id": "1kCk5IveHI33"
   },
   "source": [
    "In this question, you will learn about tf.gradients. Essentially, tf.gradients(p,q) gives dp/dq. "
   ]
  },
  {
   "cell_type": "code",
   "execution_count": 8,
   "metadata": {
    "colab": {
     "autoexec": {
      "startup": false,
      "wait_interval": 0
     }
    },
    "colab_type": "code",
    "id": "OnI5N3q9HI33"
   },
   "outputs": [],
   "source": [
    "x = tf.placeholder(tf.float32)\n",
    "y = tf.sqrt(tf.square(x))\n",
    "dy_dx = tf.gradients(y,x)"
   ]
  },
  {
   "cell_type": "markdown",
   "metadata": {
    "colab_type": "text",
    "id": "vkyKbw87HI36"
   },
   "source": [
    "Essentially, y = x. And, as you know dy/dx = 1.  "
   ]
  },
  {
   "cell_type": "code",
   "execution_count": 9,
   "metadata": {
    "colab": {
     "autoexec": {
      "startup": false,
      "wait_interval": 0
     },
     "base_uri": "https://localhost:8080/",
     "height": 34
    },
    "colab_type": "code",
    "executionInfo": {
     "elapsed": 407,
     "status": "ok",
     "timestamp": 1527048932826,
     "user": {
      "displayName": "Chandramouli Shama Sastry",
      "photoUrl": "//lh5.googleusercontent.com/-bmEv2d9GMso/AAAAAAAAAAI/AAAAAAAAR20/37jyNvHZ_7o/s50-c-k-no/photo.jpg",
      "userId": "107292938983801620650"
     },
     "user_tz": 180
    },
    "id": "E7tOERJIHI37",
    "outputId": "cbc24ae7-a6a9-41a8-927a-6f3665d747f9"
   },
   "outputs": [
    {
     "data": {
      "text/plain": [
       "[1.0]"
      ]
     },
     "execution_count": 9,
     "metadata": {},
     "output_type": "execute_result"
    }
   ],
   "source": [
    "sess = tf.Session()\n",
    "sess.run(dy_dx,feed_dict={x:10})"
   ]
  },
  {
   "cell_type": "markdown",
   "metadata": {
    "colab_type": "text",
    "id": "TUoV3AeSHI39"
   },
   "source": [
    "And it is 1! Now, let's try for some other values"
   ]
  },
  {
   "cell_type": "code",
   "execution_count": 10,
   "metadata": {
    "colab": {
     "autoexec": {
      "startup": false,
      "wait_interval": 0
     },
     "base_uri": "https://localhost:8080/",
     "height": 34
    },
    "colab_type": "code",
    "executionInfo": {
     "elapsed": 290,
     "status": "ok",
     "timestamp": 1527048935037,
     "user": {
      "displayName": "Chandramouli Shama Sastry",
      "photoUrl": "//lh5.googleusercontent.com/-bmEv2d9GMso/AAAAAAAAAAI/AAAAAAAAR20/37jyNvHZ_7o/s50-c-k-no/photo.jpg",
      "userId": "107292938983801620650"
     },
     "user_tz": 180
    },
    "id": "qM2fZcRIHI3-",
    "outputId": "27f08cbe-10bc-4556-f0f6-53acda7c3688"
   },
   "outputs": [
    {
     "data": {
      "text/plain": [
       "[nan]"
      ]
     },
     "execution_count": 10,
     "metadata": {},
     "output_type": "execute_result"
    }
   ],
   "source": [
    "sess.run(dy_dx,feed_dict={x:0})"
   ]
  },
  {
   "cell_type": "code",
   "execution_count": 11,
   "metadata": {
    "colab": {
     "autoexec": {
      "startup": false,
      "wait_interval": 0
     },
     "base_uri": "https://localhost:8080/",
     "height": 34
    },
    "colab_type": "code",
    "executionInfo": {
     "elapsed": 384,
     "status": "ok",
     "timestamp": 1527048938024,
     "user": {
      "displayName": "Chandramouli Shama Sastry",
      "photoUrl": "//lh5.googleusercontent.com/-bmEv2d9GMso/AAAAAAAAAAI/AAAAAAAAR20/37jyNvHZ_7o/s50-c-k-no/photo.jpg",
      "userId": "107292938983801620650"
     },
     "user_tz": 180
    },
    "id": "WRq9u71JHI4A",
    "outputId": "bed0017e-8609-42df-db09-6dbae81aa6a7"
   },
   "outputs": [
    {
     "data": {
      "text/plain": [
       "[inf]"
      ]
     },
     "execution_count": 11,
     "metadata": {},
     "output_type": "execute_result"
    }
   ],
   "source": [
    "sess.run(dy_dx,feed_dict={x:10**-20})"
   ]
  },
  {
   "cell_type": "markdown",
   "metadata": {
    "colab_type": "text",
    "id": "MJQ2--2mHI4C"
   },
   "source": [
    "Oops! We got nan and inf even though the derivative(limit) exists!! Explain why.\n",
    "\n",
    "<b>Answer:</b> \n",
    "TensorFlow uses a differentiation method called \"Automatic Differentiation\". This method builds off of the idea that complex mathematical functions are composed of less complex math functions. For example, \n",
    "\n",
    "                  f = mx + b\n",
    "                  \n",
    "is composed of the simpler functions \n",
    "\n",
    "                  a = m*x \n",
    "                  &,\n",
    "                  b = a + b\n",
    "\n",
    "Thus, we can find the derivative of the original function f by finding the derivatives of the simpler functions and multiplying together (by using the chain rule). \n",
    "\n",
    "Where this idea goes wrong is when one of the \"simpler\" functions is not differentiable for the given input, as in the example of x = 0 in dy_dx. Even though the function \n",
    "\n",
    "                  f = sqrt(sq(x))\n",
    "\n",
    "is the same as the absolute value of x, tensorflow does not see the function this way; it sees the function dy_dx as \n",
    "\n",
    "                   [(1/2)*(1/sqrt(x))]*[2*x]\n",
    "\n",
    "Then, when 0 is inputted, 1/sqrt(0) does not exist, and hence we receive the value of NaN. There is a similar case for the returned [inf] value when inputting the value 10**-20.\n",
    "\n",
    "\n",
    "References: \n",
    "-------------\n",
    "* http://colah.github.io/posts/2015-08-Backprop/\n",
    "* https://github.com/tensorflow/tensorflow/issues/5562\n",
    "\n",
    "\n",
    "\n",
    "Further, come up with another function of x which shows similar behavior and demonstrate it below. Do not use trivial modifications of the above function like (x\\*\\*3)**1/3. In other words, demonstrate a function which gives the derivative as equal to nan/inf even though the derivative is defined. "
   ]
  },
  {
   "cell_type": "code",
   "execution_count": 13,
   "metadata": {},
   "outputs": [],
   "source": [
    "#Another function which displays the problems seen above. This is because the derivative of ln x is 1/x, and hence the derivative fails \n",
    "#in TF when x = 0. However, we can derive this function on paper as (x+2)/(x+1) \n",
    "\n",
    "u = tf.placeholder(tf.float32)\n",
    "w = tf.log(tf.exp(x)+(x*tf.exp(x)))\n",
    "dy_dx = tf.gradients(y,x)"
   ]
  },
  {
   "cell_type": "code",
   "execution_count": 14,
   "metadata": {},
   "outputs": [
    {
     "data": {
      "text/plain": [
       "[nan]"
      ]
     },
     "execution_count": 14,
     "metadata": {},
     "output_type": "execute_result"
    }
   ],
   "source": [
    "sess = tf.Session()\n",
    "sess.run(dy_dx,feed_dict={x:0})"
   ]
  },
  {
   "cell_type": "code",
   "execution_count": 15,
   "metadata": {},
   "outputs": [
    {
     "data": {
      "text/plain": [
       "[inf]"
      ]
     },
     "execution_count": 15,
     "metadata": {},
     "output_type": "execute_result"
    }
   ],
   "source": [
    "sess.run(dy_dx,feed_dict={x:10**-20})"
   ]
  },
  {
   "cell_type": "markdown",
   "metadata": {
    "colab_type": "text",
    "id": "sAX8SAYip5pP"
   },
   "source": [
    "**The abs example**"
   ]
  },
  {
   "cell_type": "code",
   "execution_count": 0,
   "metadata": {
    "colab": {
     "autoexec": {
      "startup": false,
      "wait_interval": 0
     }
    },
    "colab_type": "code",
    "id": "3faTW07iktOg"
   },
   "outputs": [],
   "source": [
    "x = tf.placeholder(tf.float32)\n",
    "y = tf.abs(x)\n",
    "dy_dx = tf.gradients(y,x)"
   ]
  },
  {
   "cell_type": "code",
   "execution_count": 4,
   "metadata": {
    "colab": {
     "autoexec": {
      "startup": false,
      "wait_interval": 0
     },
     "base_uri": "https://localhost:8080/",
     "height": 34
    },
    "colab_type": "code",
    "executionInfo": {
     "elapsed": 288,
     "status": "ok",
     "timestamp": 1527290006886,
     "user": {
      "displayName": "Chandramouli Shama Sastry",
      "photoUrl": "//lh5.googleusercontent.com/-bmEv2d9GMso/AAAAAAAAAAI/AAAAAAAAR20/37jyNvHZ_7o/s50-c-k-no/photo.jpg",
      "userId": "107292938983801620650"
     },
     "user_tz": 180
    },
    "id": "Lio8Zh9Vky5T",
    "outputId": "45506446-5348-4df4-cb1c-8a3b8316dca8"
   },
   "outputs": [
    {
     "data": {
      "text/plain": [
       "[1.0]"
      ]
     },
     "execution_count": 4,
     "metadata": {
      "tags": []
     },
     "output_type": "execute_result"
    }
   ],
   "source": [
    "sess = tf.Session()\n",
    "sess.run(dy_dx,feed_dict={x:10})"
   ]
  },
  {
   "cell_type": "code",
   "execution_count": 5,
   "metadata": {
    "colab": {
     "autoexec": {
      "startup": false,
      "wait_interval": 0
     },
     "base_uri": "https://localhost:8080/",
     "height": 34
    },
    "colab_type": "code",
    "executionInfo": {
     "elapsed": 297,
     "status": "ok",
     "timestamp": 1527290008896,
     "user": {
      "displayName": "Chandramouli Shama Sastry",
      "photoUrl": "//lh5.googleusercontent.com/-bmEv2d9GMso/AAAAAAAAAAI/AAAAAAAAR20/37jyNvHZ_7o/s50-c-k-no/photo.jpg",
      "userId": "107292938983801620650"
     },
     "user_tz": 180
    },
    "id": "u9F1AK64k118",
    "outputId": "2166556b-76df-44d4-d819-a6c442d54b7e"
   },
   "outputs": [
    {
     "data": {
      "text/plain": [
       "[0.0]"
      ]
     },
     "execution_count": 5,
     "metadata": {
      "tags": []
     },
     "output_type": "execute_result"
    }
   ],
   "source": [
    "sess.run(dy_dx,feed_dict={x:0})"
   ]
  },
  {
   "cell_type": "code",
   "execution_count": 6,
   "metadata": {
    "colab": {
     "autoexec": {
      "startup": false,
      "wait_interval": 0
     },
     "base_uri": "https://localhost:8080/",
     "height": 34
    },
    "colab_type": "code",
    "executionInfo": {
     "elapsed": 479,
     "status": "ok",
     "timestamp": 1527290011463,
     "user": {
      "displayName": "Chandramouli Shama Sastry",
      "photoUrl": "//lh5.googleusercontent.com/-bmEv2d9GMso/AAAAAAAAAAI/AAAAAAAAR20/37jyNvHZ_7o/s50-c-k-no/photo.jpg",
      "userId": "107292938983801620650"
     },
     "user_tz": 180
    },
    "id": "sXWoowkik35Q",
    "outputId": "f52c13ba-ff96-4bc5-83eb-6b16f0ef2876"
   },
   "outputs": [
    {
     "data": {
      "text/plain": [
       "[1.0]"
      ]
     },
     "execution_count": 6,
     "metadata": {
      "tags": []
     },
     "output_type": "execute_result"
    }
   ],
   "source": [
    "sess.run(dy_dx,feed_dict={x:10**-20})"
   ]
  },
  {
   "cell_type": "code",
   "execution_count": 7,
   "metadata": {
    "colab": {
     "autoexec": {
      "startup": false,
      "wait_interval": 0
     },
     "base_uri": "https://localhost:8080/",
     "height": 34
    },
    "colab_type": "code",
    "executionInfo": {
     "elapsed": 491,
     "status": "ok",
     "timestamp": 1527290013168,
     "user": {
      "displayName": "Chandramouli Shama Sastry",
      "photoUrl": "//lh5.googleusercontent.com/-bmEv2d9GMso/AAAAAAAAAAI/AAAAAAAAR20/37jyNvHZ_7o/s50-c-k-no/photo.jpg",
      "userId": "107292938983801620650"
     },
     "user_tz": 180
    },
    "id": "Oi25AzIjk7LX",
    "outputId": "56c3c3e7-c145-4306-ea7f-c2fbb141f43b"
   },
   "outputs": [
    {
     "data": {
      "text/plain": [
       "[-1.0]"
      ]
     },
     "execution_count": 7,
     "metadata": {
      "tags": []
     },
     "output_type": "execute_result"
    }
   ],
   "source": [
    "sess.run(dy_dx,feed_dict={x:-10})"
   ]
  }
 ],
 "metadata": {
  "colab": {
   "collapsed_sections": [],
   "default_view": {},
   "name": "A2.ipynb",
   "provenance": [],
   "version": "0.3.2",
   "views": {}
  },
  "kernelspec": {
   "display_name": "Python 3",
   "language": "python",
   "name": "python3"
  },
  "language_info": {
   "codemirror_mode": {
    "name": "ipython",
    "version": 3
   },
   "file_extension": ".py",
   "mimetype": "text/x-python",
   "name": "python",
   "nbconvert_exporter": "python",
   "pygments_lexer": "ipython3",
   "version": "3.6.5"
  }
 },
 "nbformat": 4,
 "nbformat_minor": 1
}
